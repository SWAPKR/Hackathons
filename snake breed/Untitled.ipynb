{
 "cells": [
  {
   "cell_type": "code",
   "execution_count": 1,
   "metadata": {},
   "outputs": [
    {
     "name": "stderr",
     "output_type": "stream",
     "text": [
      "Using TensorFlow backend.\n"
     ]
    }
   ],
   "source": [
    "import pandas as pd\n",
    "import numpy as np\n",
    "import tensorflow as tf\n",
    "from keras.preprocessing.image import ImageDataGenerator"
   ]
  },
  {
   "cell_type": "code",
   "execution_count": null,
   "metadata": {},
   "outputs": [],
   "source": [
    "# train_datagen = ImageDataGenerator(rescale = 1./255)\n",
    "# training_set = train_datagen.flow_from_directory('data/',\n",
    "#                                                  target_size = (128, 128),\n",
    "#                                                  batch_size = 32,\n",
    "#                                                  class_mode = 'categorical')"
   ]
  },
  {
   "cell_type": "code",
   "execution_count": 2,
   "metadata": {},
   "outputs": [],
   "source": [
    "from keras.preprocessing import image"
   ]
  },
  {
   "cell_type": "code",
   "execution_count": null,
   "metadata": {},
   "outputs": [],
   "source": [
    "test_image = image.load_img('data/000e2d0a91.jpg', target_size = (128, 128))\n",
    "test_image = image.img_to_array(test_image)\n",
    "test_image = np.expand_dims(test_image, axis = 0)\n",
    "result = cnn.predict(test_image)"
   ]
  },
  {
   "cell_type": "code",
   "execution_count": 3,
   "metadata": {},
   "outputs": [],
   "source": [
    "from keras.preprocessing import image\n",
    "result=pd.DataFrame()\n",
    "filename=pd.read_csv('data/test.csv')\n",
    "for file in filename.values:\n",
    "    test_image = image.load_img('data/'+ file[0] + '.jpg', target_size = (128, 128))\n",
    "    test_image = image.img_to_array(test_image)\n",
    "    test_image = np.expand_dims(test_image, axis = 0)\n",
    "    output=cnn.predict(test_image)\n",
    "    classs=output.argmax()\n",
    "    result.loc[file]=classs"
   ]
  },
  {
   "cell_type": "code",
   "execution_count": 23,
   "metadata": {},
   "outputs": [],
   "source": [
    "a=pd.read_csv('2.csv')"
   ]
  },
  {
   "cell_type": "code",
   "execution_count": 26,
   "metadata": {},
   "outputs": [
    {
     "data": {
      "text/plain": [
       "nerodia-fasciata             1081\n",
       "opheodrys-aestivus            240\n",
       "heterodon-platirhinos         196\n",
       "storeria-dekayi               155\n",
       "thamnophis-proximus           129\n",
       "pantherophis-obsoletus         83\n",
       "lampropeltis-californiae       75\n",
       "pantherophis-emoryi            56\n",
       "nerodia-rhombifer              55\n",
       "crotalus-horridus              52\n",
       "pituophis-catenifer            40\n",
       "lampropeltis-triangulum        35\n",
       "crotalus-atrox                 35\n",
       "coluber-constrictor            21\n",
       "thamnophis-radix               20\n",
       "haldea-striatula               18\n",
       "masticophis-flagellum          15\n",
       "crotalus-viridis                9\n",
       "pantherophis-spiloides          9\n",
       "storeria-occipitomaculata       8\n",
       "agkistrodon-piscivorus          5\n",
       "thamnophis-elegans              5\n",
       "diadophis-punctatus             5\n",
       "thamnophis-sirtalis             4\n",
       "crotalus-scutulatus             4\n",
       "agkistrodon-contortrix          3\n",
       "pantherophis-vulpinus           2\n",
       "crotalus-ruber                  1\n",
       "Name: breed, dtype: int64"
      ]
     },
     "execution_count": 26,
     "metadata": {},
     "output_type": "execute_result"
    }
   ],
   "source": [
    "a['breed'].value_counts()"
   ]
  },
  {
   "cell_type": "code",
   "execution_count": 27,
   "metadata": {},
   "outputs": [],
   "source": [
    "b=pd.read_csv('data/train.csv')"
   ]
  },
  {
   "cell_type": "code",
   "execution_count": 29,
   "metadata": {},
   "outputs": [
    {
     "data": {
      "text/plain": [
       "thamnophis-sirtalis            509\n",
       "storeria-dekayi                412\n",
       "pantherophis-obsoletus         366\n",
       "crotalus-atrox                 354\n",
       "pituophis-catenifer            298\n",
       "nerodia-sipedon                259\n",
       "agkistrodon-contortrix         206\n",
       "lampropeltis-triangulum        197\n",
       "diadophis-punctatus            184\n",
       "pantherophis-alleghaniensis    172\n",
       "nerodia-erythrogaster          171\n",
       "lampropeltis-californiae       166\n",
       "opheodrys-aestivus             152\n",
       "agkistrodon-piscivorus         147\n",
       "crotalus-horridus              142\n",
       "coluber-constrictor            129\n",
       "heterodon-platirhinos          118\n",
       "thamnophis-proximus            112\n",
       "nerodia-rhombifer              104\n",
       "thamnophis-radix               100\n",
       "pantherophis-guttatus          100\n",
       "haldea-striatula                98\n",
       "pantherophis-spiloides          92\n",
       "rhinocheilus-lecontei           91\n",
       "storeria-occipitomaculata       87\n",
       "masticophis-flagellum           83\n",
       "crotalus-viridis                83\n",
       "thamnophis-marcianus            82\n",
       "crotalus-ruber                  77\n",
       "nerodia-fasciata                74\n",
       "pantherophis-vulpinus           73\n",
       "natrix-natrix                   72\n",
       "thamnophis-elegans              69\n",
       "pantherophis-emoryi             66\n",
       "crotalus-scutulatus             63\n",
       "Name: breed, dtype: int64"
      ]
     },
     "execution_count": 29,
     "metadata": {},
     "output_type": "execute_result"
    }
   ],
   "source": [
    "b['breed'].value_counts()"
   ]
  },
  {
   "cell_type": "code",
   "execution_count": null,
   "metadata": {},
   "outputs": [],
   "source": []
  }
 ],
 "metadata": {
  "kernelspec": {
   "display_name": "Python 3",
   "language": "python",
   "name": "python3"
  },
  "language_info": {
   "codemirror_mode": {
    "name": "ipython",
    "version": 3
   },
   "file_extension": ".py",
   "mimetype": "text/x-python",
   "name": "python",
   "nbconvert_exporter": "python",
   "pygments_lexer": "ipython3",
   "version": "3.7.9"
  }
 },
 "nbformat": 4,
 "nbformat_minor": 4
}
